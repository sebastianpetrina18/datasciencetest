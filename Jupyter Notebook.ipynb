{
    "cells": [
        {
            "cell_type": "code",
            "execution_count": 3,
            "metadata": {},
            "outputs": [
                {
                    "data": {
                        "text/plain": "[Row(Make='BMW', Model='1 Series M', Year='2011', Engine Fuel Type='premium unleaded (required)', Engine HP='335', Engine Cylinders='6', Transmission Type='MANUAL', Driven_Wheels='rear wheel drive', Number of Doors='2', Market Category='Factory Tuner,Luxury,High-Performance', Vehicle Size='Compact', Vehicle Style='Coupe', highway MPG='26', city mpg='19', Popularity='3916', MSRP='46135'),\n Row(Make='BMW', Model='1 Series', Year='2011', Engine Fuel Type='premium unleaded (required)', Engine HP='300', Engine Cylinders='6', Transmission Type='MANUAL', Driven_Wheels='rear wheel drive', Number of Doors='2', Market Category='Luxury,Performance', Vehicle Size='Compact', Vehicle Style='Convertible', highway MPG='28', city mpg='19', Popularity='3916', MSRP='40650'),\n Row(Make='BMW', Model='1 Series', Year='2011', Engine Fuel Type='premium unleaded (required)', Engine HP='300', Engine Cylinders='6', Transmission Type='MANUAL', Driven_Wheels='rear wheel drive', Number of Doors='2', Market Category='Luxury,High-Performance', Vehicle Size='Compact', Vehicle Style='Coupe', highway MPG='28', city mpg='20', Popularity='3916', MSRP='36350'),\n Row(Make='BMW', Model='1 Series', Year='2011', Engine Fuel Type='premium unleaded (required)', Engine HP='230', Engine Cylinders='6', Transmission Type='MANUAL', Driven_Wheels='rear wheel drive', Number of Doors='2', Market Category='Luxury,Performance', Vehicle Size='Compact', Vehicle Style='Coupe', highway MPG='28', city mpg='18', Popularity='3916', MSRP='29450'),\n Row(Make='BMW', Model='1 Series', Year='2011', Engine Fuel Type='premium unleaded (required)', Engine HP='230', Engine Cylinders='6', Transmission Type='MANUAL', Driven_Wheels='rear wheel drive', Number of Doors='2', Market Category='Luxury', Vehicle Size='Compact', Vehicle Style='Convertible', highway MPG='28', city mpg='18', Popularity='3916', MSRP='34500')]"
                    },
                    "execution_count": 3,
                    "metadata": {},
                    "output_type": "execute_result"
                }
            ],
            "source": "# The code was removed by Watson Studio for sharing."
        },
        {
            "cell_type": "code",
            "execution_count": null,
            "metadata": {},
            "outputs": [],
            "source": ""
        }
    ],
    "metadata": {
        "kernelspec": {
            "display_name": "Python 3.6 with Spark",
            "language": "python3",
            "name": "python36"
        },
        "language_info": {
            "codemirror_mode": {
                "name": "ipython",
                "version": 3
            },
            "file_extension": ".py",
            "mimetype": "text/x-python",
            "name": "python",
            "nbconvert_exporter": "python",
            "pygments_lexer": "ipython3",
            "version": "3.6.8"
        }
    },
    "nbformat": 4,
    "nbformat_minor": 1
}